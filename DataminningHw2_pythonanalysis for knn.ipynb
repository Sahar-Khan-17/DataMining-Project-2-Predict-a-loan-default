{
 "cells": [
  {
   "cell_type": "code",
   "execution_count": 1,
   "id": "b016426d",
   "metadata": {},
   "outputs": [],
   "source": [
    "import pandas as pd\n",
    "import seaborn as sns\n",
    "import matplotlib.pyplot as plt\n",
    "from sklearn.neighbors import KNeighborsClassifier\n",
    "from sklearn.metrics import classification_report\n",
    "from sklearn.metrics import roc_auc_score, roc_curve\n",
    "from sklearn.metrics import auc\n",
    "from sklearn.model_selection import train_test_split\n",
    "import numpy as np\n",
    "from sklearn.cluster import KMeans"
   ]
  },
  {
   "cell_type": "code",
   "execution_count": 3,
   "id": "5f3d00e9",
   "metadata": {},
   "outputs": [
    {
     "data": {
      "text/html": [
       "<div>\n",
       "<style scoped>\n",
       "    .dataframe tbody tr th:only-of-type {\n",
       "        vertical-align: middle;\n",
       "    }\n",
       "\n",
       "    .dataframe tbody tr th {\n",
       "        vertical-align: top;\n",
       "    }\n",
       "\n",
       "    .dataframe thead th {\n",
       "        text-align: right;\n",
       "    }\n",
       "</style>\n",
       "<table border=\"1\" class=\"dataframe\">\n",
       "  <thead>\n",
       "    <tr style=\"text-align: right;\">\n",
       "      <th></th>\n",
       "      <th>ID</th>\n",
       "      <th>LIMIT_BAL</th>\n",
       "      <th>SEX</th>\n",
       "      <th>EDUCATION</th>\n",
       "      <th>MARRIAGE</th>\n",
       "      <th>AGE</th>\n",
       "      <th>PAY_0</th>\n",
       "      <th>PAY_2</th>\n",
       "      <th>PAY_3</th>\n",
       "      <th>PAY_4</th>\n",
       "      <th>...</th>\n",
       "      <th>BILL_AMT4</th>\n",
       "      <th>BILL_AMT5</th>\n",
       "      <th>BILL_AMT6</th>\n",
       "      <th>PAY_AMT1</th>\n",
       "      <th>PAY_AMT2</th>\n",
       "      <th>PAY_AMT3</th>\n",
       "      <th>PAY_AMT4</th>\n",
       "      <th>PAY_AMT5</th>\n",
       "      <th>PAY_AMT6</th>\n",
       "      <th>default payment next month</th>\n",
       "    </tr>\n",
       "  </thead>\n",
       "  <tbody>\n",
       "    <tr>\n",
       "      <th>0</th>\n",
       "      <td>1</td>\n",
       "      <td>20000</td>\n",
       "      <td>2</td>\n",
       "      <td>2</td>\n",
       "      <td>1</td>\n",
       "      <td>24</td>\n",
       "      <td>2</td>\n",
       "      <td>2</td>\n",
       "      <td>-1</td>\n",
       "      <td>-1</td>\n",
       "      <td>...</td>\n",
       "      <td>0</td>\n",
       "      <td>0</td>\n",
       "      <td>0</td>\n",
       "      <td>0</td>\n",
       "      <td>689</td>\n",
       "      <td>0</td>\n",
       "      <td>0</td>\n",
       "      <td>0</td>\n",
       "      <td>0</td>\n",
       "      <td>1</td>\n",
       "    </tr>\n",
       "    <tr>\n",
       "      <th>1</th>\n",
       "      <td>2</td>\n",
       "      <td>120000</td>\n",
       "      <td>2</td>\n",
       "      <td>2</td>\n",
       "      <td>2</td>\n",
       "      <td>26</td>\n",
       "      <td>-1</td>\n",
       "      <td>2</td>\n",
       "      <td>-1</td>\n",
       "      <td>-1</td>\n",
       "      <td>...</td>\n",
       "      <td>3272</td>\n",
       "      <td>3455</td>\n",
       "      <td>3261</td>\n",
       "      <td>0</td>\n",
       "      <td>1000</td>\n",
       "      <td>1000</td>\n",
       "      <td>1000</td>\n",
       "      <td>0</td>\n",
       "      <td>2000</td>\n",
       "      <td>1</td>\n",
       "    </tr>\n",
       "    <tr>\n",
       "      <th>2</th>\n",
       "      <td>3</td>\n",
       "      <td>90000</td>\n",
       "      <td>2</td>\n",
       "      <td>2</td>\n",
       "      <td>2</td>\n",
       "      <td>34</td>\n",
       "      <td>-1</td>\n",
       "      <td>-1</td>\n",
       "      <td>-1</td>\n",
       "      <td>-1</td>\n",
       "      <td>...</td>\n",
       "      <td>14331</td>\n",
       "      <td>14948</td>\n",
       "      <td>15549</td>\n",
       "      <td>1518</td>\n",
       "      <td>1500</td>\n",
       "      <td>1000</td>\n",
       "      <td>1000</td>\n",
       "      <td>1000</td>\n",
       "      <td>5000</td>\n",
       "      <td>0</td>\n",
       "    </tr>\n",
       "    <tr>\n",
       "      <th>3</th>\n",
       "      <td>4</td>\n",
       "      <td>50000</td>\n",
       "      <td>2</td>\n",
       "      <td>2</td>\n",
       "      <td>1</td>\n",
       "      <td>37</td>\n",
       "      <td>-1</td>\n",
       "      <td>-1</td>\n",
       "      <td>-1</td>\n",
       "      <td>-1</td>\n",
       "      <td>...</td>\n",
       "      <td>28314</td>\n",
       "      <td>28959</td>\n",
       "      <td>29547</td>\n",
       "      <td>2000</td>\n",
       "      <td>2019</td>\n",
       "      <td>1200</td>\n",
       "      <td>1100</td>\n",
       "      <td>1069</td>\n",
       "      <td>1000</td>\n",
       "      <td>0</td>\n",
       "    </tr>\n",
       "    <tr>\n",
       "      <th>4</th>\n",
       "      <td>5</td>\n",
       "      <td>50000</td>\n",
       "      <td>1</td>\n",
       "      <td>2</td>\n",
       "      <td>1</td>\n",
       "      <td>57</td>\n",
       "      <td>-1</td>\n",
       "      <td>-1</td>\n",
       "      <td>-1</td>\n",
       "      <td>-1</td>\n",
       "      <td>...</td>\n",
       "      <td>20940</td>\n",
       "      <td>19146</td>\n",
       "      <td>19131</td>\n",
       "      <td>2000</td>\n",
       "      <td>36681</td>\n",
       "      <td>10000</td>\n",
       "      <td>9000</td>\n",
       "      <td>689</td>\n",
       "      <td>679</td>\n",
       "      <td>0</td>\n",
       "    </tr>\n",
       "  </tbody>\n",
       "</table>\n",
       "<p>5 rows × 25 columns</p>\n",
       "</div>"
      ],
      "text/plain": [
       "   ID  LIMIT_BAL  SEX  EDUCATION  MARRIAGE  AGE  PAY_0  PAY_2  PAY_3  PAY_4  \\\n",
       "0   1      20000    2          2         1   24      2      2     -1     -1   \n",
       "1   2     120000    2          2         2   26     -1      2     -1     -1   \n",
       "2   3      90000    2          2         2   34     -1     -1     -1     -1   \n",
       "3   4      50000    2          2         1   37     -1     -1     -1     -1   \n",
       "4   5      50000    1          2         1   57     -1     -1     -1     -1   \n",
       "\n",
       "   ...  BILL_AMT4  BILL_AMT5  BILL_AMT6  PAY_AMT1  PAY_AMT2  PAY_AMT3  \\\n",
       "0  ...          0          0          0         0       689         0   \n",
       "1  ...       3272       3455       3261         0      1000      1000   \n",
       "2  ...      14331      14948      15549      1518      1500      1000   \n",
       "3  ...      28314      28959      29547      2000      2019      1200   \n",
       "4  ...      20940      19146      19131      2000     36681     10000   \n",
       "\n",
       "   PAY_AMT4  PAY_AMT5  PAY_AMT6  default payment next month  \n",
       "0         0         0         0                           1  \n",
       "1      1000         0      2000                           1  \n",
       "2      1000      1000      5000                           0  \n",
       "3      1100      1069      1000                           0  \n",
       "4      9000       689       679                           0  \n",
       "\n",
       "[5 rows x 25 columns]"
      ]
     },
     "execution_count": 3,
     "metadata": {},
     "output_type": "execute_result"
    }
   ],
   "source": [
    "default = pd.read_csv(\"C:/Users/khan1/OneDrive/Desktop/Classes smu/Fall Mod B/datamining/hw2clean/DM hw2 dataset_clean.csv\")\n",
    "\n",
    " \n",
    "default.head()"
   ]
  },
  {
   "cell_type": "code",
   "execution_count": 18,
   "id": "2221298c",
   "metadata": {},
   "outputs": [],
   "source": [
    "# using iloc to get the data from dataframe according to indexes\n",
    "x = default.iloc[:, :-1]\n",
    "y = default.iloc[:, -1]\n",
    "from sklearn.neighbors import KNeighborsClassifier\n",
    "classifier = KNeighborsClassifier()"
   ]
  },
  {
   "cell_type": "code",
   "execution_count": 20,
   "id": "79654ff5",
   "metadata": {},
   "outputs": [],
   "source": [
    "# split data into 70% (training) and 30% (testing)\n",
    "from sklearn.model_selection import train_test_split\n",
    "# split the data for multiple times \n",
    "def multi_split(x, y, model, count):\n",
    "    train_score = []\n",
    "    test_score = []\n",
    "    for i in range(count):\n",
    "        x_train, x_test, y_train, y_test = train_test_split(x, y, test_size = 0.3, random_state = 1)\n",
    "        model.fit(x_train, y_train)\n",
    "        train_score.append(model.score(x_train, y_train))\n",
    "        test_score.append(model.score(x_test, y_test))\n",
    "    return np.array(train_score), np.array(test_score)\n",
    "        \n",
    "train_score, test_score = multi_split(x,y,classifier, 10)"
   ]
  },
  {
   "cell_type": "code",
   "execution_count": null,
   "id": "01ddde19",
   "metadata": {},
   "outputs": [],
   "source": [
    "x.shape\n",
    "np.sqrt(x.shape[0]*0.7)"
   ]
  },
  {
   "cell_type": "code",
   "execution_count": 19,
   "id": "9d15dd54",
   "metadata": {},
   "outputs": [
    {
     "data": {
      "image/png": "[encoded data removed]",
      "text/plain": [
       "<Figure size 432x288 with 1 Axes>"
      ]
     },
     "metadata": {
      "needs_background": "light"
     },
     "output_type": "display_data"
    }
   ],
   "source": [
    "from sklearn.cluster import KMeans\n",
    "Sum_of_squared_distances = []\n",
    "K = range(1,10)\n",
    "for num_clusters in K :\n",
    "    kmeans = KMeans(n_clusters=num_clusters)\n",
    "    kmeans.fit(np.array(default.AGE).reshape((-1, 1)))\n",
    "    Sum_of_squared_distances.append(kmeans.inertia_)\n",
    "plt.plot(K,Sum_of_squared_distances,'bx-')\n",
    "plt.xlabel('Values of K') \n",
    "plt.ylabel('Sum of squared distances/Inertia') \n",
    "plt.title('Elbow Method For Optimal k')\n",
    "plt.show()"
   ]
  },
  {
   "cell_type": "code",
   "execution_count": null,
   "id": "3cdd0d1d",
   "metadata": {},
   "outputs": [],
   "source": [
    "k_list = np.arange(30, 120, step = 15)"
   ]
  },
  {
   "cell_type": "code",
   "execution_count": null,
   "id": "526c86d6",
   "metadata": {},
   "outputs": [],
   "source": [
    "train_mean_score = []\n",
    "test_mean_score = []\n",
    "for k in k_list:\n",
    "    model = KNeighborsClassifier(n_neighbors = k)\n",
    "    train_score, test_score = multi_split(x,y,model, 3)\n",
    "    train_mean_score.append(train_score.mean())\n",
    "    test_mean_score.append(test_score.mean())\n"
   ]
  },
  {
   "cell_type": "code",
   "execution_count": null,
   "id": "5358595c",
   "metadata": {},
   "outputs": [],
   "source": [
    "k_list = np.arange(30, 120, step = 8)\n"
   ]
  },
  {
   "cell_type": "code",
   "execution_count": null,
   "id": "55b01a75",
   "metadata": {},
   "outputs": [],
   "source": [
    "result1.set_index(\"K\").plot()"
   ]
  },
  {
   "cell_type": "code",
   "execution_count": null,
   "id": "56f95ad0",
   "metadata": {},
   "outputs": [],
   "source": [
    "# 更细节的模型\n",
    "k_list = np.arange(30, 120, step = 8)\n",
    "train_mean_score = []\n",
    "test_mean_score = []\n",
    "for k in k_list:\n",
    "    model = KNeighborsClassifier(n_neighbors = k)\n",
    "    train_score, test_score = multi_split(x,y,model, 3)\n",
    "    train_mean_score.append(train_score.mean())\n",
    "    test_mean_score.append(test_score.mean())\n",
    "result1 = pd.DataFrame(data ={\"K\" : k_list, \"TRAIN\" : train_mean_score, \"TEST\": test_mean_score})\n",
    "result1.set_index(\"K\").plot()"
   ]
  },
  {
   "cell_type": "code",
   "execution_count": 5,
   "id": "fe89df11",
   "metadata": {},
   "outputs": [
    {
     "data": {
      "text/plain": [
       "KMeans(n_clusters=4)"
      ]
     },
     "execution_count": 5,
     "metadata": {},
     "output_type": "execute_result"
    }
   ],
   "source": [
    "kmeans = KMeans(n_clusters=4)\n",
    "kmeans.fit(np.array(default.AGE).reshape((-1, 1)))"
   ]
  },
  {
   "cell_type": "code",
   "execution_count": 6,
   "id": "7cbb0bdd",
   "metadata": {},
   "outputs": [],
   "source": [
    "default['age_group'] = kmeans.labels_"
   ]
  },
  {
   "cell_type": "code",
   "execution_count": 7,
   "id": "761bf0e6",
   "metadata": {},
   "outputs": [
    {
     "name": "stdout",
     "output_type": "stream",
     "text": [
      "(7837, 33.91) (6838, 41.56) (10899, 26.54) (4027, 52.29)\n"
     ]
    }
   ],
   "source": [
    "print ((default[default.age_group == 0].shape[0],  round(default[default.age_group == 0].AGE.mean(),2)),\n",
    "(default[default.age_group == 1].shape[0], round(default[default.age_group == 1].AGE.mean(),2)) , \n",
    "(default[default.age_group == 2].shape[0], round(default[default.age_group == 2].AGE.mean(),2)),\n",
    "       (default[default.age_group == 3].shape[0], round(default[default.age_group == 3].AGE.mean(),2)))"
   ]
  },
  {
   "cell_type": "code",
   "execution_count": 8,
   "id": "157222ad",
   "metadata": {},
   "outputs": [
    {
     "name": "stdout",
     "output_type": "stream",
     "text": [
      "Training data: (5485, 24)\n",
      "Validation data: (2352, 24)\n"
     ]
    }
   ],
   "source": [
    "# segment '0'\n",
    "(default[default.age_group == 0])\n",
    "X0 = default[default.age_group == 0].drop(columns=['default payment next month','AGE'],axis=1)\n",
    "y0= default[default.age_group == 0]['default payment next month']\n",
    "X0_train, X0_test, y0_train, y0_test = train_test_split(X0, y0, test_size=.3,random_state=0)\n",
    "\n",
    "print('Training data:', X0_train.shape)\n",
    "print('Validation data:', X0_test.shape)"
   ]
  },
  {
   "cell_type": "code",
   "execution_count": 9,
   "id": "744d5a08",
   "metadata": {},
   "outputs": [
    {
     "data": {
      "image/png": "[encoded data removed]",
      "text/plain": [
       "<Figure size 432x288 with 1 Axes>"
      ]
     },
     "metadata": {
      "needs_background": "light"
     },
     "output_type": "display_data"
    }
   ],
   "source": [
    "neighbors = np.arange(5, 60)\n",
    "train_accuracy = np.empty(len(neighbors))\n",
    "test_accuracy = np.empty(len(neighbors))\n",
    "# Loop over K values\n",
    "%matplotlib inline\n",
    "for i, k in enumerate(neighbors):\n",
    "    knn = KNeighborsClassifier(n_neighbors=k)\n",
    "    knn.fit(X0_train, y0_train)\n",
    "      \n",
    "    # Compute training and test data accuracy\n",
    "    train_accuracy[i] = knn.score(X0_train, y0_train)\n",
    "    test_accuracy[i] = knn.score(X0_test, y0_test)\n",
    "    \n",
    "plt.plot(neighbors, test_accuracy, label = 'Testing dataset Accuracy')\n",
    "plt.plot(neighbors, train_accuracy, label = 'Training dataset Accuracy')\n",
    "\n",
    "plt.legend()\n",
    "plt.xlabel('n_neighbors')\n",
    "plt.ylabel('Accuracy')\n",
    "plt.show()\n",
    "\n",
    "##K 18"
   ]
  },
  {
   "cell_type": "code",
   "execution_count": 16,
   "id": "cd9f41dc",
   "metadata": {},
   "outputs": [
    {
     "name": "stdout",
     "output_type": "stream",
     "text": [
      "Training data: (4786, 24)\n",
      "Validation data: (2052, 24)\n"
     ]
    }
   ],
   "source": [
    "#segment '1'\n",
    "(default[default.age_group == 1])\n",
    "X1 = default[default.age_group == 1].drop(columns=['default payment next month','AGE'],axis=1)\n",
    "y1= default[default.age_group == 1]['default payment next month']\n",
    "X1_train, X1_test, y1_train, y1_test = train_test_split(X1, y1, test_size=.3,random_state=0)\n",
    "\n",
    "print('Training data:', X1_train.shape)\n",
    "print('Validation data:', X1_test.shape)"
   ]
  },
  {
   "cell_type": "code",
   "execution_count": 17,
   "id": "9534423b",
   "metadata": {},
   "outputs": [
    {
     "data": {
      "image/png": "[encoded data removed]",
      "text/plain": [
       "<Figure size 432x288 with 1 Axes>"
      ]
     },
     "metadata": {
      "needs_background": "light"
     },
     "output_type": "display_data"
    }
   ],
   "source": [
    "neighbors = np.arange(5, 80)\n",
    "train_accuracy = np.empty(len(neighbors))\n",
    "test_accuracy = np.empty(len(neighbors))\n",
    "# Loop over K values\n",
    "%matplotlib inline\n",
    "for i, k in enumerate(neighbors):\n",
    "    knn = KNeighborsClassifier(n_neighbors=k)\n",
    "    knn.fit(X1_train, y1_train)\n",
    "      \n",
    "    # Compute training and test data accuracy\n",
    "    train_accuracy[i] = knn.score(X1_train, y1_train)\n",
    "    test_accuracy[i] = knn.score(X1_test, y1_test)\n",
    "    \n",
    "plt.plot(neighbors, test_accuracy, label = 'Testing dataset Accuracy')\n",
    "plt.plot(neighbors, train_accuracy, label = 'Training dataset Accuracy')\n",
    "\n",
    "plt.legend()\n",
    "plt.xlabel('n_neighbors')\n",
    "plt.ylabel('Accuracy')\n",
    "plt.show()"
   ]
  },
  {
   "cell_type": "code",
   "execution_count": 12,
   "id": "7ab4b058",
   "metadata": {},
   "outputs": [
    {
     "name": "stdout",
     "output_type": "stream",
     "text": [
      "Training data: (7629, 24)\n",
      "Validation data: (3270, 24)\n"
     ]
    }
   ],
   "source": [
    "# segment '2'\n",
    "(default[default.age_group == 2])\n",
    "X2 = default[default.age_group == 2].drop(columns=['default payment next month','AGE'],axis=1)\n",
    "y2= default[default.age_group == 2]['default payment next month']\n",
    "X2_train, X2_test, y2_train, y2_test = train_test_split(X2, y2, test_size=.3,random_state=0)\n",
    "\n",
    "print('Training data:', X2_train.shape)\n",
    "print('Validation data:', X2_test.shape)"
   ]
  },
  {
   "cell_type": "code",
   "execution_count": 13,
   "id": "c84b844d",
   "metadata": {},
   "outputs": [
    {
     "data": {
      "image/png": "[encoded data removed]",
      "text/plain": [
       "<Figure size 432x288 with 1 Axes>"
      ]
     },
     "metadata": {
      "needs_background": "light"
     },
     "output_type": "display_data"
    }
   ],
   "source": [
    "neighbors = np.arange(5, 60)\n",
    "train_accuracy = np.empty(len(neighbors))\n",
    "test_accuracy = np.empty(len(neighbors))\n",
    "# Loop over K values\n",
    "%matplotlib inline\n",
    "for i, k in enumerate(neighbors):\n",
    "    knn = KNeighborsClassifier(n_neighbors=k)\n",
    "    knn.fit(X2_train, y2_train)\n",
    "      \n",
    "    # Compute training and test data accuracy\n",
    "    train_accuracy[i] = knn.score(X2_train, y2_train)\n",
    "    test_accuracy[i] = knn.score(X2_test, y2_test)\n",
    "    \n",
    "plt.plot(neighbors, test_accuracy, label = 'Testing dataset Accuracy')\n",
    "plt.plot(neighbors, train_accuracy, label = 'Training dataset Accuracy')\n",
    "\n",
    "plt.legend()\n",
    "plt.xlabel('n_neighbors')\n",
    "plt.ylabel('Accuracy')\n",
    "plt.show()"
   ]
  },
  {
   "cell_type": "code",
   "execution_count": 14,
   "id": "c8b9d575",
   "metadata": {},
   "outputs": [
    {
     "name": "stdout",
     "output_type": "stream",
     "text": [
      "Training data: (2818, 24)\n",
      "Validation data: (1209, 24)\n"
     ]
    }
   ],
   "source": [
    "# segment '3'\n",
    "(default[default.age_group == 3])\n",
    "X3 = default[default.age_group == 3].drop(columns=['default payment next month','AGE'],axis=1)\n",
    "y3= default[default.age_group == 3]['default payment next month']\n",
    "X3_train, X3_test, y3_train, y3_test = train_test_split(X3, y3, test_size=.3,random_state=0)\n",
    "\n",
    "print('Training data:', X3_train.shape)\n",
    "print('Validation data:', X3_test.shape)"
   ]
  },
  {
   "cell_type": "code",
   "execution_count": 15,
   "id": "2f0240be",
   "metadata": {},
   "outputs": [
    {
     "data": {
      "image/png": "[encoded data removed]",
      "text/plain": [
       "<Figure size 432x288 with 1 Axes>"
      ]
     },
     "metadata": {
      "needs_background": "light"
     },
     "output_type": "display_data"
    }
   ],
   "source": [
    "neighbors = np.arange(5, 60)\n",
    "train_accuracy = np.empty(len(neighbors))\n",
    "test_accuracy = np.empty(len(neighbors))\n",
    "# Loop over K values\n",
    "%matplotlib inline\n",
    "for i, k in enumerate(neighbors):\n",
    "    knn = KNeighborsClassifier(n_neighbors=k)\n",
    "    knn.fit(X3_train, y3_train)\n",
    "      \n",
    "    # Compute training and test data accuracy\n",
    "    train_accuracy[i] = knn.score(X3_train, y3_train)\n",
    "    test_accuracy[i] = knn.score(X3_test, y3_test)\n",
    "    \n",
    "plt.plot(neighbors, test_accuracy, label = 'Testing dataset Accuracy')\n",
    "plt.plot(neighbors, train_accuracy, label = 'Training dataset Accuracy')\n",
    "\n",
    "plt.legend()\n",
    "plt.xlabel('n_neighbors')\n",
    "plt.ylabel('Accuracy')\n",
    "plt.show()"
   ]
  },
  {
   "cell_type": "code",
   "execution_count": null,
   "id": "b4a24d08",
   "metadata": {},
   "outputs": [],
   "source": []
  }
 ],
 "metadata": {
  "kernelspec": {
   "display_name": "Python 3 (ipykernel)",
   "language": "python",
   "name": "python3"
  },
  "language_info": {
   "codemirror_mode": {
    "name": "ipython",
    "version": 3
   },
   "file_extension": ".py",
   "mimetype": "text/x-python",
   "name": "python",
   "nbconvert_exporter": "python",
   "pygments_lexer": "ipython3",
   "version": "3.9.12"
  }
 },
 "nbformat": 4,
 "nbformat_minor": 5
}
